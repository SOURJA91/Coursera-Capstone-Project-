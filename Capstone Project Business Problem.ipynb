{
    "cells": [
        {
            "cell_type": "markdown",
            "metadata": {
                "collapsed": true
            },
            "source": "## Business Problem"
        },
        {
            "cell_type": "markdown",
            "metadata": {},
            "source": "With increase in the number of cars on road there has been an increase in traffic which has led to increase in road accidents. Deaths due to car accident are a major concern for both the law enforcers and the riders behind the wheels.\nAs data analyst we can address this problem by designing a predictive model to be used by traffic regulators and common people to understand what conditions are the major reasons for the road accidents.\nFor this we need to have previous data set about car collisions having specification on various attributes like the road condition, the weather and the car condition. This will help us in determining the key factors leading to these accidents. The data will help us in designing a predictive model that will help in providing recommendations on the basis of prevailing factors and minimize the quantity of car collisions."
        }
    ],
    "metadata": {
        "kernelspec": {
            "display_name": "Python 3.6",
            "language": "python",
            "name": "python3"
        },
        "language_info": {
            "codemirror_mode": {
                "name": "ipython",
                "version": 3
            },
            "file_extension": ".py",
            "mimetype": "text/x-python",
            "name": "python",
            "nbconvert_exporter": "python",
            "pygments_lexer": "ipython3",
            "version": "3.6.9"
        }
    },
    "nbformat": 4,
    "nbformat_minor": 1
}